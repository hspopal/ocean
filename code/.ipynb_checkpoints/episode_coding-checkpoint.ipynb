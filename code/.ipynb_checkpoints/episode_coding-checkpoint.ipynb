{
 "cells": [
  {
   "cell_type": "markdown",
   "id": "d8c26cfa-9d05-47e0-a309-c43f2940652e",
   "metadata": {},
   "source": [
    "# OC Episode Coding\n",
    "**Authors**: Dalia Mustafa and Haroon Popal"
   ]
  },
  {
   "cell_type": "markdown",
   "id": "83e847df-74ab-4647-8e37-07e190cd89f3",
   "metadata": {},
   "source": [
    "## Set Up"
   ]
  },
  {
   "cell_type": "markdown",
   "id": "ba80bab0-8907-4eaa-b200-d7e31cd4434f",
   "metadata": {},
   "source": [
    "### Import libraries"
   ]
  },
  {
   "cell_type": "code",
   "execution_count": 1,
   "id": "02f9aeb5-598d-4f94-b68f-5b09fe1d3fa2",
   "metadata": {},
   "outputs": [],
   "source": [
    "import os\n",
    "import glob\n",
    "import pandas as pd\n",
    "import numpy as np\n",
    "import seaborn as sns\n",
    "import matplotlib.pyplot as plt"
   ]
  },
  {
   "cell_type": "markdown",
   "id": "66899b6e-4135-4613-ab67-ecee963ad303",
   "metadata": {},
   "source": [
    "### Set paths"
   ]
  },
  {
   "cell_type": "code",
   "execution_count": 2,
   "id": "690f4998-d085-4467-99e2-1f08a0932b0f",
   "metadata": {},
   "outputs": [],
   "source": [
    "proj_dir = '/Users/hpopal/Google Drive/My Drive/dscn_lab/projects/ocean/'\n",
    "\n",
    "os.chdir(proj_dir)"
   ]
  },
  {
   "cell_type": "markdown",
   "id": "1940a131-0e5d-4925-98ac-5cbc4d3386b8",
   "metadata": {},
   "source": [
    "### Import raw data"
   ]
  },
  {
   "cell_type": "code",
   "execution_count": 3,
   "id": "8c2da643-889a-4dbf-b01e-7374d04c54fa",
   "metadata": {},
   "outputs": [
    {
     "data": {
      "text/html": [
       "<div>\n",
       "<style scoped>\n",
       "    .dataframe tbody tr th:only-of-type {\n",
       "        vertical-align: middle;\n",
       "    }\n",
       "\n",
       "    .dataframe tbody tr th {\n",
       "        vertical-align: top;\n",
       "    }\n",
       "\n",
       "    .dataframe thead th {\n",
       "        text-align: right;\n",
       "    }\n",
       "</style>\n",
       "<table border=\"1\" class=\"dataframe\">\n",
       "  <thead>\n",
       "    <tr style=\"text-align: right;\">\n",
       "      <th></th>\n",
       "      <th>Season</th>\n",
       "      <th>Episode</th>\n",
       "      <th>Episode_length</th>\n",
       "      <th>Character</th>\n",
       "      <th>Start_time</th>\n",
       "      <th>End_time</th>\n",
       "      <th>Start_second</th>\n",
       "      <th>End_second</th>\n",
       "      <th>Clip_length</th>\n",
       "      <th>Good_clip</th>\n",
       "    </tr>\n",
       "  </thead>\n",
       "  <tbody>\n",
       "    <tr>\n",
       "      <th>0</th>\n",
       "      <td>1</td>\n",
       "      <td>1</td>\n",
       "      <td>0:45:08</td>\n",
       "      <td>Ryan</td>\n",
       "      <td>45:08</td>\n",
       "      <td>37:20</td>\n",
       "      <td>0</td>\n",
       "      <td>468</td>\n",
       "      <td>468</td>\n",
       "      <td>NaN</td>\n",
       "    </tr>\n",
       "    <tr>\n",
       "      <th>1</th>\n",
       "      <td>1</td>\n",
       "      <td>1</td>\n",
       "      <td>0:45:08</td>\n",
       "      <td>Sandy</td>\n",
       "      <td>43:35</td>\n",
       "      <td>40:18</td>\n",
       "      <td>93</td>\n",
       "      <td>290</td>\n",
       "      <td>197</td>\n",
       "      <td>NaN</td>\n",
       "    </tr>\n",
       "    <tr>\n",
       "      <th>2</th>\n",
       "      <td>1</td>\n",
       "      <td>1</td>\n",
       "      <td>0:45:08</td>\n",
       "      <td>Sandy</td>\n",
       "      <td>38:41</td>\n",
       "      <td>36:22</td>\n",
       "      <td>387</td>\n",
       "      <td>526</td>\n",
       "      <td>139</td>\n",
       "      <td>NaN</td>\n",
       "    </tr>\n",
       "    <tr>\n",
       "      <th>3</th>\n",
       "      <td>1</td>\n",
       "      <td>1</td>\n",
       "      <td>0:45:08</td>\n",
       "      <td>Kirsten</td>\n",
       "      <td>37:20</td>\n",
       "      <td>36:22</td>\n",
       "      <td>468</td>\n",
       "      <td>526</td>\n",
       "      <td>58</td>\n",
       "      <td>NaN</td>\n",
       "    </tr>\n",
       "    <tr>\n",
       "      <th>4</th>\n",
       "      <td>1</td>\n",
       "      <td>1</td>\n",
       "      <td>0:45:08</td>\n",
       "      <td>Ryan</td>\n",
       "      <td>36:22</td>\n",
       "      <td>29:21</td>\n",
       "      <td>526</td>\n",
       "      <td>947</td>\n",
       "      <td>421</td>\n",
       "      <td>NaN</td>\n",
       "    </tr>\n",
       "  </tbody>\n",
       "</table>\n",
       "</div>"
      ],
      "text/plain": [
       "   Season  Episode Episode_length Character Start_time End_time  Start_second  \\\n",
       "0       1        1        0:45:08      Ryan      45:08    37:20             0   \n",
       "1       1        1        0:45:08     Sandy      43:35    40:18            93   \n",
       "2       1        1        0:45:08     Sandy      38:41    36:22           387   \n",
       "3       1        1        0:45:08   Kirsten      37:20    36:22           468   \n",
       "4       1        1        0:45:08      Ryan      36:22    29:21           526   \n",
       "\n",
       "   End_second  Clip_length  Good_clip  \n",
       "0         468          468        NaN  \n",
       "1         290          197        NaN  \n",
       "2         526          139        NaN  \n",
       "3         526           58        NaN  \n",
       "4         947          421        NaN  "
      ]
     },
     "execution_count": 3,
     "metadata": {},
     "output_type": "execute_result"
    }
   ],
   "source": [
    "raw_data = pd.read_csv(os.path.join(proj_dir, 'task_creation', 'character_time_stamps',\n",
    "                                    'DALEXCELcharacter_time_stamps.csv'))\n",
    "\n",
    "raw_data.head()"
   ]
  },
  {
   "cell_type": "markdown",
   "id": "d9e95117-39d7-4ced-bb09-12f96c0b0126",
   "metadata": {},
   "source": [
    "### Clean the data"
   ]
  },
  {
   "cell_type": "code",
   "execution_count": 4,
   "id": "efd025bb-7f6a-48f9-83af-2c7d46040ae4",
   "metadata": {},
   "outputs": [
    {
     "data": {
      "text/html": [
       "<div>\n",
       "<style scoped>\n",
       "    .dataframe tbody tr th:only-of-type {\n",
       "        vertical-align: middle;\n",
       "    }\n",
       "\n",
       "    .dataframe tbody tr th {\n",
       "        vertical-align: top;\n",
       "    }\n",
       "\n",
       "    .dataframe thead th {\n",
       "        text-align: right;\n",
       "    }\n",
       "</style>\n",
       "<table border=\"1\" class=\"dataframe\">\n",
       "  <thead>\n",
       "    <tr style=\"text-align: right;\">\n",
       "      <th></th>\n",
       "      <th>Season</th>\n",
       "      <th>Episode</th>\n",
       "      <th>Episode_length</th>\n",
       "      <th>Character</th>\n",
       "      <th>Start_time</th>\n",
       "      <th>End_time</th>\n",
       "      <th>Start_second</th>\n",
       "      <th>End_second</th>\n",
       "      <th>Clip_length</th>\n",
       "    </tr>\n",
       "  </thead>\n",
       "  <tbody>\n",
       "    <tr>\n",
       "      <th>0</th>\n",
       "      <td>1</td>\n",
       "      <td>1</td>\n",
       "      <td>0:45:08</td>\n",
       "      <td>Ryan</td>\n",
       "      <td>45:08</td>\n",
       "      <td>37:20</td>\n",
       "      <td>0</td>\n",
       "      <td>468</td>\n",
       "      <td>468</td>\n",
       "    </tr>\n",
       "    <tr>\n",
       "      <th>1</th>\n",
       "      <td>1</td>\n",
       "      <td>1</td>\n",
       "      <td>0:45:08</td>\n",
       "      <td>Sandy</td>\n",
       "      <td>43:35</td>\n",
       "      <td>40:18</td>\n",
       "      <td>93</td>\n",
       "      <td>290</td>\n",
       "      <td>197</td>\n",
       "    </tr>\n",
       "    <tr>\n",
       "      <th>2</th>\n",
       "      <td>1</td>\n",
       "      <td>1</td>\n",
       "      <td>0:45:08</td>\n",
       "      <td>Sandy</td>\n",
       "      <td>38:41</td>\n",
       "      <td>36:22</td>\n",
       "      <td>387</td>\n",
       "      <td>526</td>\n",
       "      <td>139</td>\n",
       "    </tr>\n",
       "    <tr>\n",
       "      <th>3</th>\n",
       "      <td>1</td>\n",
       "      <td>1</td>\n",
       "      <td>0:45:08</td>\n",
       "      <td>Kirsten</td>\n",
       "      <td>37:20</td>\n",
       "      <td>36:22</td>\n",
       "      <td>468</td>\n",
       "      <td>526</td>\n",
       "      <td>58</td>\n",
       "    </tr>\n",
       "    <tr>\n",
       "      <th>4</th>\n",
       "      <td>1</td>\n",
       "      <td>1</td>\n",
       "      <td>0:45:08</td>\n",
       "      <td>Ryan</td>\n",
       "      <td>36:22</td>\n",
       "      <td>29:21</td>\n",
       "      <td>526</td>\n",
       "      <td>947</td>\n",
       "      <td>421</td>\n",
       "    </tr>\n",
       "  </tbody>\n",
       "</table>\n",
       "</div>"
      ],
      "text/plain": [
       "   Season  Episode Episode_length Character Start_time End_time  Start_second  \\\n",
       "0       1        1        0:45:08      Ryan      45:08    37:20             0   \n",
       "1       1        1        0:45:08     Sandy      43:35    40:18            93   \n",
       "2       1        1        0:45:08     Sandy      38:41    36:22           387   \n",
       "3       1        1        0:45:08   Kirsten      37:20    36:22           468   \n",
       "4       1        1        0:45:08      Ryan      36:22    29:21           526   \n",
       "\n",
       "   End_second  Clip_length  \n",
       "0         468          468  \n",
       "1         290          197  \n",
       "2         526          139  \n",
       "3         526           58  \n",
       "4         947          421  "
      ]
     },
     "execution_count": 4,
     "metadata": {},
     "output_type": "execute_result"
    }
   ],
   "source": [
    "# Drop Good clip column\n",
    "raw_data = raw_data.drop('Good_clip', axis = 1)\n",
    "raw_data.head()"
   ]
  },
  {
   "cell_type": "markdown",
   "id": "0009b7c0-9224-4de9-b270-b68fef0c24be",
   "metadata": {},
   "source": [
    "## Calculate Character Screentime"
   ]
  },
  {
   "cell_type": "code",
   "execution_count": 5,
   "id": "5e9bc472-fc7f-41d5-86f2-ca0b177b7cdf",
   "metadata": {},
   "outputs": [
    {
     "data": {
      "text/html": [
       "<div>\n",
       "<style scoped>\n",
       "    .dataframe tbody tr th:only-of-type {\n",
       "        vertical-align: middle;\n",
       "    }\n",
       "\n",
       "    .dataframe tbody tr th {\n",
       "        vertical-align: top;\n",
       "    }\n",
       "\n",
       "    .dataframe thead th {\n",
       "        text-align: right;\n",
       "    }\n",
       "</style>\n",
       "<table border=\"1\" class=\"dataframe\">\n",
       "  <thead>\n",
       "    <tr style=\"text-align: right;\">\n",
       "      <th></th>\n",
       "      <th>Character</th>\n",
       "      <th>Seconds</th>\n",
       "    </tr>\n",
       "  </thead>\n",
       "  <tbody>\n",
       "    <tr>\n",
       "      <th>0</th>\n",
       "      <td>Ryan</td>\n",
       "      <td>2193</td>\n",
       "    </tr>\n",
       "    <tr>\n",
       "      <th>1</th>\n",
       "      <td>Sandy</td>\n",
       "      <td>834</td>\n",
       "    </tr>\n",
       "    <tr>\n",
       "      <th>2</th>\n",
       "      <td>Kirsten</td>\n",
       "      <td>328</td>\n",
       "    </tr>\n",
       "    <tr>\n",
       "      <th>3</th>\n",
       "      <td>Marissa</td>\n",
       "      <td>670</td>\n",
       "    </tr>\n",
       "    <tr>\n",
       "      <th>4</th>\n",
       "      <td>Luke</td>\n",
       "      <td>151</td>\n",
       "    </tr>\n",
       "    <tr>\n",
       "      <th>5</th>\n",
       "      <td>Seth</td>\n",
       "      <td>915</td>\n",
       "    </tr>\n",
       "    <tr>\n",
       "      <th>6</th>\n",
       "      <td>Jimmy</td>\n",
       "      <td>176</td>\n",
       "    </tr>\n",
       "    <tr>\n",
       "      <th>7</th>\n",
       "      <td>Julie</td>\n",
       "      <td>39</td>\n",
       "    </tr>\n",
       "    <tr>\n",
       "      <th>8</th>\n",
       "      <td>Summer</td>\n",
       "      <td>332</td>\n",
       "    </tr>\n",
       "  </tbody>\n",
       "</table>\n",
       "</div>"
      ],
      "text/plain": [
       "  Character Seconds\n",
       "0      Ryan    2193\n",
       "1     Sandy     834\n",
       "2   Kirsten     328\n",
       "3   Marissa     670\n",
       "4      Luke     151\n",
       "5      Seth     915\n",
       "6     Jimmy     176\n",
       "7     Julie      39\n",
       "8    Summer     332"
      ]
     },
     "execution_count": 5,
     "metadata": {},
     "output_type": "execute_result"
    }
   ],
   "source": [
    "# Create empty\n",
    "character_seconds_df = pd.DataFrame(columns=[\"Character\", \"Seconds\"])\n",
    "\n",
    "# Create list of characters\n",
    "char_list = raw_data['Character'].unique()\n",
    "\n",
    "n=0\n",
    "for char in char_list:\n",
    "    temp_char_df = raw_data[raw_data[\"Character\"] == char]\n",
    "    \n",
    "    temp_char_total = sum(temp_char_df['Clip_length'])\n",
    "\n",
    "    # Fill in dataframe with character totals\n",
    "    character_seconds_df.loc[n,\"Character\"] = char\n",
    "    character_seconds_df.loc[n,\"Seconds\"] = temp_char_total\n",
    "    n += 1\n",
    "\n",
    "character_seconds_df"
   ]
  },
  {
   "cell_type": "markdown",
   "id": "81dbff70-05cb-447f-938e-7c95540c771f",
   "metadata": {},
   "source": [
    "### Find whether characters are on the screen for every given second"
   ]
  },
  {
   "cell_type": "code",
   "execution_count": 6,
   "id": "def77add-0451-4398-8e0e-96bbc0720413",
   "metadata": {},
   "outputs": [
    {
     "name": "stderr",
     "output_type": "stream",
     "text": [
      "/var/folders/85/t_6qbb0j2pvbbd0sq3zrwbc00000gq/T/ipykernel_78047/2171256130.py:18: FutureWarning: Downcasting object dtype arrays on .fillna, .ffill, .bfill is deprecated and will change in a future version. Call result.infer_objects(copy=False) instead. To opt-in to the future behavior, set `pd.set_option('future.no_silent_downcasting', True)`\n",
      "  screentime_data.fillna(0, inplace = True)\n"
     ]
    },
    {
     "data": {
      "text/html": [
       "<div>\n",
       "<style scoped>\n",
       "    .dataframe tbody tr th:only-of-type {\n",
       "        vertical-align: middle;\n",
       "    }\n",
       "\n",
       "    .dataframe tbody tr th {\n",
       "        vertical-align: top;\n",
       "    }\n",
       "\n",
       "    .dataframe thead th {\n",
       "        text-align: right;\n",
       "    }\n",
       "</style>\n",
       "<table border=\"1\" class=\"dataframe\">\n",
       "  <thead>\n",
       "    <tr style=\"text-align: right;\">\n",
       "      <th></th>\n",
       "      <th>Ryan</th>\n",
       "      <th>Sandy</th>\n",
       "      <th>Kirsten</th>\n",
       "      <th>Marissa</th>\n",
       "      <th>Luke</th>\n",
       "      <th>Seth</th>\n",
       "      <th>Jimmy</th>\n",
       "      <th>Julie</th>\n",
       "      <th>Summer</th>\n",
       "    </tr>\n",
       "  </thead>\n",
       "  <tbody>\n",
       "    <tr>\n",
       "      <th>0</th>\n",
       "      <td>1</td>\n",
       "      <td>0</td>\n",
       "      <td>0</td>\n",
       "      <td>0</td>\n",
       "      <td>0</td>\n",
       "      <td>0</td>\n",
       "      <td>0</td>\n",
       "      <td>0</td>\n",
       "      <td>0</td>\n",
       "    </tr>\n",
       "    <tr>\n",
       "      <th>1</th>\n",
       "      <td>1</td>\n",
       "      <td>0</td>\n",
       "      <td>0</td>\n",
       "      <td>0</td>\n",
       "      <td>0</td>\n",
       "      <td>0</td>\n",
       "      <td>0</td>\n",
       "      <td>0</td>\n",
       "      <td>0</td>\n",
       "    </tr>\n",
       "    <tr>\n",
       "      <th>2</th>\n",
       "      <td>1</td>\n",
       "      <td>0</td>\n",
       "      <td>0</td>\n",
       "      <td>0</td>\n",
       "      <td>0</td>\n",
       "      <td>0</td>\n",
       "      <td>0</td>\n",
       "      <td>0</td>\n",
       "      <td>0</td>\n",
       "    </tr>\n",
       "    <tr>\n",
       "      <th>3</th>\n",
       "      <td>1</td>\n",
       "      <td>0</td>\n",
       "      <td>0</td>\n",
       "      <td>0</td>\n",
       "      <td>0</td>\n",
       "      <td>0</td>\n",
       "      <td>0</td>\n",
       "      <td>0</td>\n",
       "      <td>0</td>\n",
       "    </tr>\n",
       "    <tr>\n",
       "      <th>4</th>\n",
       "      <td>1</td>\n",
       "      <td>0</td>\n",
       "      <td>0</td>\n",
       "      <td>0</td>\n",
       "      <td>0</td>\n",
       "      <td>0</td>\n",
       "      <td>0</td>\n",
       "      <td>0</td>\n",
       "      <td>0</td>\n",
       "    </tr>\n",
       "  </tbody>\n",
       "</table>\n",
       "</div>"
      ],
      "text/plain": [
       "   Ryan  Sandy  Kirsten  Marissa  Luke  Seth  Jimmy  Julie  Summer\n",
       "0     1      0        0        0     0     0      0      0       0\n",
       "1     1      0        0        0     0     0      0      0       0\n",
       "2     1      0        0        0     0     0      0      0       0\n",
       "3     1      0        0        0     0     0      0      0       0\n",
       "4     1      0        0        0     0     0      0      0       0"
      ]
     },
     "execution_count": 6,
     "metadata": {},
     "output_type": "execute_result"
    }
   ],
   "source": [
    "# Change time stamo to readable format\n",
    "ftr = [3600,60,1]\n",
    "\n",
    "epi_len = raw_data['Episode_length'][0]\n",
    "\n",
    "total_epleng = sum([a*b for a,b in zip(ftr, map(int,epi_len.split(':')))])\n",
    "\n",
    "\n",
    "# Create screentime data\n",
    "screentime_data = pd.DataFrame(columns = char_list, index = range(total_epleng))\n",
    "\n",
    "for n_row in raw_data.index:\n",
    "    temp_char = raw_data.loc[n_row,'Character']\n",
    "    temp_start_idx= raw_data.loc[n_row, 'Start_second']\n",
    "    temp_end_idx = raw_data.loc[n_row, 'End_second']\n",
    "    screentime_data.loc[temp_start_idx:temp_end_idx, temp_char] = 1\n",
    "\n",
    "screentime_data.fillna(0, inplace = True)\n",
    "\n",
    "screentime_data.head()"
   ]
  },
  {
   "cell_type": "code",
   "execution_count": 7,
   "id": "3be61d64-a4b4-42c5-9af1-d62e19608521",
   "metadata": {},
   "outputs": [
    {
     "name": "stdout",
     "output_type": "stream",
     "text": [
      "Figure(640x480)\n"
     ]
    },
    {
     "data": {
      "image/png": "[encoded data removed]",
      "text/plain": [
       "<Figure size 640x480 with 8 Axes>"
      ]
     },
     "metadata": {},
     "output_type": "display_data"
    }
   ],
   "source": [
    "fig, axs = plt.subplots(8, sharex=True, sharey=True)\n",
    "fig.suptitle('Character Screentime')\n",
    "axs[0].plot(screentime_data['Ryan'])\n",
    "axs[1].set_ylim(0, 1.2)\n",
    "axs[2].plot(screentime_data['Sandy'])\n",
    "axs[2].set_ylim(0, 1.2)\n",
    "axs[3].plot(screentime_data['Seth'])\n",
    "axs[3].set_ylim(0, 1.2)\n",
    "axs[4].plot(screentime_data['Kirsten'])\n",
    "axs[4].set_ylim(0, 1.2)\n",
    "axs[5].plot(screentime_data['Summer'])\n",
    "axs[5].set_ylim(0, 1.2)\n",
    "axs[0].set_ylim(0, 1.2)\n",
    "axs[1].plot(screentime_data['Marissa'])\n",
    "axs[6].plot(screentime_data['Luke'])\n",
    "axs[6].set_ylim(0, 1.2)\n",
    "axs[7].plot(screentime_data['Jimmy'])\n",
    "axs[7].set_ylim(0, 1.2)\n",
    "\n",
    "print(fig)"
   ]
  },
  {
   "cell_type": "markdown",
   "id": "58911731-c48e-401a-a13b-5e7550e5da81",
   "metadata": {},
   "source": [
    "### Use Function to Prep All Rater Data"
   ]
  },
  {
   "cell_type": "code",
   "execution_count": 8,
   "id": "ffc33610-c9de-4241-8b4c-ad53a4434bda",
   "metadata": {},
   "outputs": [],
   "source": [
    "def prep_raw_rater_data(csv_path, rater_id):\n",
    "\n",
    "    # Import raw data\n",
    "    raw_data = pd.read_csv(csv_path)\n",
    "\n",
    "    # Drop Good clip column\n",
    "    raw_data = raw_data.drop('Good_clip', axis = 1)\n",
    "\n",
    "    # Remove spaces from character names\n",
    "    raw_data['Character'] = raw_data['Character'].str.strip()\n",
    "\n",
    "    raw_data['Episode'] = raw_data['Episode'].astype(str)\n",
    "\n",
    "    # Calculate character screentime\n",
    "    # Create empty\n",
    "    character_seconds_df = pd.DataFrame(columns=[\"Character\", \"Episode\", \"Seconds\"])\n",
    "    \n",
    "    # Create list of characters\n",
    "    char_list = raw_data['Character'].unique()\n",
    "\n",
    "    # Create a list of the episodes\n",
    "    epi_list = raw_data['Episode'].unique()\n",
    "\n",
    "    # For each episode and character, mark if they are on the screen\n",
    "    # for a given second\n",
    "    for epi in epi_list:\n",
    "        # Filter data for a specific episode\n",
    "        temp_epi_df = raw_data[raw_data[\"Episode\"] == epi]\n",
    "\n",
    "        # Create a df to store episode info\n",
    "        epi_seconds_df = pd.DataFrame(columns=[\"Character\", \"Episode\", \"Seconds\"])\n",
    "\n",
    "        # Loop through characters to find episode specific screentime\n",
    "        n=0\n",
    "        for char in char_list:\n",
    "            # Filter dataframe for a specific character\n",
    "            temp_char_df = temp_epi_df[temp_epi_df[\"Character\"] == char]\n",
    "\n",
    "            # Find the total time of the clip\n",
    "            temp_char_total = sum(temp_char_df['Clip_length'])\n",
    "        \n",
    "            # Fill in dataframe with character totals\n",
    "            epi_seconds_df.loc[n,\"Character\"] = char\n",
    "            epi_seconds_df.loc[n,\"Seconds\"] = temp_char_total\n",
    "            n += 1\n",
    "\n",
    "        # Add episode info\n",
    "        epi_seconds_df['Episode'] = epi\n",
    "\n",
    "        character_seconds_df = pd.merge(character_seconds_df, epi_seconds_df, how='outer')\n",
    "\n",
    "    \n",
    "    # Add a column for the rater ID\n",
    "    character_seconds_df['rater'] = str(rater_id)\n",
    "    \n",
    "\n",
    "    # Find character on screen\n",
    "    # Change time stamp to readable format\n",
    "    ftr = [3600,60,1]\n",
    "\n",
    "    screentime_data = pd.DataFrame(columns=np.append(char_list,'Episode'))\n",
    "    \n",
    "    for epi in epi_list:\n",
    "        # Calculate episode length\n",
    "        epi_len = raw_data['Episode_length'][0]\n",
    "        total_epleng = sum([a*b for a,b in zip(ftr, map(int,epi_len.split(':')))])\n",
    "        \n",
    "        # Create screentime data\n",
    "        epi_screentime = pd.DataFrame(columns = char_list, index = range(total_epleng))\n",
    "\n",
    "        temp_epi_df = raw_data[raw_data[\"Episode\"] == epi]\n",
    "\n",
    "        # Mark in dataframe when a character is on screen for the given timepoint (second)\n",
    "        for n_row in temp_epi_df.index:\n",
    "            temp_char = temp_epi_df.loc[n_row,'Character']\n",
    "            temp_start_idx= temp_epi_df.loc[n_row, 'Start_second']\n",
    "            temp_end_idx = temp_epi_df.loc[n_row, 'End_second']\n",
    "            epi_screentime.loc[temp_start_idx:temp_end_idx, temp_char] = 1\n",
    "        \n",
    "        epi_screentime.fillna(0, inplace = True)\n",
    "\n",
    "        # Add the second of when the character was on screen\n",
    "        epi_screentime['Second'] = epi_screentime.index\n",
    "\n",
    "        # Add episode number\n",
    "        epi_screentime['Episode'] = epi\n",
    "        \n",
    "        screentime_data = pd.merge(screentime_data, epi_screentime, how='outer')\n",
    "\n",
    "    # Add a column for the rater ID\n",
    "    screentime_data['Rater'] = str(rater_id)\n",
    "    \n",
    "\n",
    "    return character_seconds_df, screentime_data"
   ]
  },
  {
   "cell_type": "markdown",
   "id": "e126df18-ac61-4895-b729-c66fe6eb8cda",
   "metadata": {},
   "source": [
    "### Import rater data"
   ]
  },
  {
   "cell_type": "code",
   "execution_count": 10,
   "id": "708b8beb-c764-42ca-b0bf-ebd66a5417ad",
   "metadata": {},
   "outputs": [
    {
     "name": "stderr",
     "output_type": "stream",
     "text": [
      "/var/folders/85/t_6qbb0j2pvbbd0sq3zrwbc00000gq/T/ipykernel_78047/1931851475.py:80: FutureWarning: Downcasting object dtype arrays on .fillna, .ffill, .bfill is deprecated and will change in a future version. Call result.infer_objects(copy=False) instead. To opt-in to the future behavior, set `pd.set_option('future.no_silent_downcasting', True)`\n",
      "  epi_screentime.fillna(0, inplace = True)\n",
      "/var/folders/85/t_6qbb0j2pvbbd0sq3zrwbc00000gq/T/ipykernel_78047/1931851475.py:80: FutureWarning: Downcasting object dtype arrays on .fillna, .ffill, .bfill is deprecated and will change in a future version. Call result.infer_objects(copy=False) instead. To opt-in to the future behavior, set `pd.set_option('future.no_silent_downcasting', True)`\n",
      "  epi_screentime.fillna(0, inplace = True)\n",
      "/var/folders/85/t_6qbb0j2pvbbd0sq3zrwbc00000gq/T/ipykernel_78047/1931851475.py:80: FutureWarning: Downcasting object dtype arrays on .fillna, .ffill, .bfill is deprecated and will change in a future version. Call result.infer_objects(copy=False) instead. To opt-in to the future behavior, set `pd.set_option('future.no_silent_downcasting', True)`\n",
      "  epi_screentime.fillna(0, inplace = True)\n",
      "/var/folders/85/t_6qbb0j2pvbbd0sq3zrwbc00000gq/T/ipykernel_78047/1931851475.py:80: FutureWarning: Downcasting object dtype arrays on .fillna, .ffill, .bfill is deprecated and will change in a future version. Call result.infer_objects(copy=False) instead. To opt-in to the future behavior, set `pd.set_option('future.no_silent_downcasting', True)`\n",
      "  epi_screentime.fillna(0, inplace = True)\n",
      "/var/folders/85/t_6qbb0j2pvbbd0sq3zrwbc00000gq/T/ipykernel_78047/1931851475.py:80: FutureWarning: Downcasting object dtype arrays on .fillna, .ffill, .bfill is deprecated and will change in a future version. Call result.infer_objects(copy=False) instead. To opt-in to the future behavior, set `pd.set_option('future.no_silent_downcasting', True)`\n",
      "  epi_screentime.fillna(0, inplace = True)\n",
      "/var/folders/85/t_6qbb0j2pvbbd0sq3zrwbc00000gq/T/ipykernel_78047/1931851475.py:80: FutureWarning: Downcasting object dtype arrays on .fillna, .ffill, .bfill is deprecated and will change in a future version. Call result.infer_objects(copy=False) instead. To opt-in to the future behavior, set `pd.set_option('future.no_silent_downcasting', True)`\n",
      "  epi_screentime.fillna(0, inplace = True)\n",
      "/var/folders/85/t_6qbb0j2pvbbd0sq3zrwbc00000gq/T/ipykernel_78047/1931851475.py:80: FutureWarning: Downcasting object dtype arrays on .fillna, .ffill, .bfill is deprecated and will change in a future version. Call result.infer_objects(copy=False) instead. To opt-in to the future behavior, set `pd.set_option('future.no_silent_downcasting', True)`\n",
      "  epi_screentime.fillna(0, inplace = True)\n",
      "/var/folders/85/t_6qbb0j2pvbbd0sq3zrwbc00000gq/T/ipykernel_78047/1931851475.py:80: FutureWarning: Downcasting object dtype arrays on .fillna, .ffill, .bfill is deprecated and will change in a future version. Call result.infer_objects(copy=False) instead. To opt-in to the future behavior, set `pd.set_option('future.no_silent_downcasting', True)`\n",
      "  epi_screentime.fillna(0, inplace = True)\n",
      "/var/folders/85/t_6qbb0j2pvbbd0sq3zrwbc00000gq/T/ipykernel_78047/1931851475.py:80: FutureWarning: Downcasting object dtype arrays on .fillna, .ffill, .bfill is deprecated and will change in a future version. Call result.infer_objects(copy=False) instead. To opt-in to the future behavior, set `pd.set_option('future.no_silent_downcasting', True)`\n",
      "  epi_screentime.fillna(0, inplace = True)\n",
      "/var/folders/85/t_6qbb0j2pvbbd0sq3zrwbc00000gq/T/ipykernel_78047/1931851475.py:80: FutureWarning: Downcasting object dtype arrays on .fillna, .ffill, .bfill is deprecated and will change in a future version. Call result.infer_objects(copy=False) instead. To opt-in to the future behavior, set `pd.set_option('future.no_silent_downcasting', True)`\n",
      "  epi_screentime.fillna(0, inplace = True)\n"
     ]
    }
   ],
   "source": [
    "char_sec_r1, screentime_r1 = prep_raw_rater_data(os.path.join(proj_dir, 'task_creation', \n",
    "                                                              'character_time_stamps',\n",
    "                                                              'ZACH- character_time_stamps.csv'), 1)\n",
    "char_sec_r2, screentime_r2 = prep_raw_rater_data(os.path.join(proj_dir, 'task_creation', \n",
    "                                                              'character_time_stamps',\n",
    "                                                              'SOPHIA -character_time_stamps.csv'), 2)\n",
    "#char_sec_r3, screentime_r3 = prep_raw_rater_data(os.path.join(proj_dir, 'task_creation', \n",
    "#                                                              'character_time_stamps',\n",
    "#                                                              'DALEXCELcharacter_time_stamps.csv'), 3)\n",
    "\n",
    "char_sec_all = pd.merge(char_sec_r1, char_sec_r2, how='outer')\n",
    "#char_sec_all = pd.merge(char_sec_all, char_sec_r3, how='outer')\n",
    "\n",
    "screentime_all = pd.merge(screentime_r1, screentime_r2, how='outer')\n",
    "#screentime_all = pd.merge(screentime_all, screentime_r3, how='outer')"
   ]
  },
  {
   "cell_type": "markdown",
   "id": "22241ce1-15b2-4855-bddb-b0fce13f2532",
   "metadata": {},
   "source": [
    "### Plot character total screentime"
   ]
  },
  {
   "cell_type": "code",
   "execution_count": 74,
   "id": "e09c6021-bd7e-43f2-afd3-bf1695705327",
   "metadata": {},
   "outputs": [],
   "source": [
    "ep_num = '16'"
   ]
  },
  {
   "cell_type": "code",
   "execution_count": 75,
   "id": "cc55c435-ed3d-4a9e-9fb9-3d8d81a74659",
   "metadata": {},
   "outputs": [
    {
     "data": {
      "text/plain": [
       "<Axes: xlabel='Character', ylabel='Seconds'>"
      ]
     },
     "execution_count": 75,
     "metadata": {},
     "output_type": "execute_result"
    },
    {
     "data": {
      "image/png": "[encoded data removed]",
      "text/plain": [
       "<Figure size 640x480 with 1 Axes>"
      ]
     },
     "metadata": {},
     "output_type": "display_data"
    }
   ],
   "source": [
    "char_sec_all_ep = char_sec_all[char_sec_all['Episode'] == ep_num]\n",
    "char_sec_all_ep = char_sec_all_ep.sort_values(by = 'Seconds', ascending = False)\n",
    "\n",
    "#sns.barplot(char_sec_all_ep01, x='Character', y='Seconds', hue='Rater')\n",
    "sns.barplot(char_sec_all_ep, x='Character', y='Seconds')"
   ]
  },
  {
   "cell_type": "markdown",
   "id": "ea6b9d40-d185-4c87-bf4c-12235a9c4d0f",
   "metadata": {},
   "source": [
    "### Shared screentime"
   ]
  },
  {
   "cell_type": "code",
   "execution_count": 76,
   "id": "2616c5ca-caf6-4738-9aae-5c3bb31eaefc",
   "metadata": {},
   "outputs": [
    {
     "name": "stderr",
     "output_type": "stream",
     "text": [
      "/var/folders/85/t_6qbb0j2pvbbd0sq3zrwbc00000gq/T/ipykernel_78047/4158676695.py:12: UserWarning: No artists with labels found to put in legend.  Note that artists whose label start with an underscore are ignored when legend() is called with no argument.\n",
      "  axs[n].legend(loc='upper left', bbox_to_anchor=(1.05, 1), borderaxespad=0.)\n",
      "/var/folders/85/t_6qbb0j2pvbbd0sq3zrwbc00000gq/T/ipykernel_78047/4158676695.py:12: UserWarning: No artists with labels found to put in legend.  Note that artists whose label start with an underscore are ignored when legend() is called with no argument.\n",
      "  axs[n].legend(loc='upper left', bbox_to_anchor=(1.05, 1), borderaxespad=0.)\n",
      "/var/folders/85/t_6qbb0j2pvbbd0sq3zrwbc00000gq/T/ipykernel_78047/4158676695.py:12: UserWarning: No artists with labels found to put in legend.  Note that artists whose label start with an underscore are ignored when legend() is called with no argument.\n",
      "  axs[n].legend(loc='upper left', bbox_to_anchor=(1.05, 1), borderaxespad=0.)\n",
      "/var/folders/85/t_6qbb0j2pvbbd0sq3zrwbc00000gq/T/ipykernel_78047/4158676695.py:12: UserWarning: No artists with labels found to put in legend.  Note that artists whose label start with an underscore are ignored when legend() is called with no argument.\n",
      "  axs[n].legend(loc='upper left', bbox_to_anchor=(1.05, 1), borderaxespad=0.)\n",
      "/var/folders/85/t_6qbb0j2pvbbd0sq3zrwbc00000gq/T/ipykernel_78047/4158676695.py:12: UserWarning: No artists with labels found to put in legend.  Note that artists whose label start with an underscore are ignored when legend() is called with no argument.\n",
      "  axs[n].legend(loc='upper left', bbox_to_anchor=(1.05, 1), borderaxespad=0.)\n",
      "/var/folders/85/t_6qbb0j2pvbbd0sq3zrwbc00000gq/T/ipykernel_78047/4158676695.py:12: UserWarning: No artists with labels found to put in legend.  Note that artists whose label start with an underscore are ignored when legend() is called with no argument.\n",
      "  axs[n].legend(loc='upper left', bbox_to_anchor=(1.05, 1), borderaxespad=0.)\n",
      "/var/folders/85/t_6qbb0j2pvbbd0sq3zrwbc00000gq/T/ipykernel_78047/4158676695.py:12: UserWarning: No artists with labels found to put in legend.  Note that artists whose label start with an underscore are ignored when legend() is called with no argument.\n",
      "  axs[n].legend(loc='upper left', bbox_to_anchor=(1.05, 1), borderaxespad=0.)\n",
      "/var/folders/85/t_6qbb0j2pvbbd0sq3zrwbc00000gq/T/ipykernel_78047/4158676695.py:12: UserWarning: No artists with labels found to put in legend.  Note that artists whose label start with an underscore are ignored when legend() is called with no argument.\n",
      "  axs[n].legend(loc='upper left', bbox_to_anchor=(1.05, 1), borderaxespad=0.)\n",
      "/var/folders/85/t_6qbb0j2pvbbd0sq3zrwbc00000gq/T/ipykernel_78047/4158676695.py:12: UserWarning: No artists with labels found to put in legend.  Note that artists whose label start with an underscore are ignored when legend() is called with no argument.\n",
      "  axs[n].legend(loc='upper left', bbox_to_anchor=(1.05, 1), borderaxespad=0.)\n"
     ]
    },
    {
     "data": {
      "image/png": "[encoded data removed]",
      "text/plain": [
       "<Figure size 640x480 with 9 Axes>"
      ]
     },
     "metadata": {},
     "output_type": "display_data"
    }
   ],
   "source": [
    "# Filter for episode 1\n",
    "screentime_all_ep = screentime_all[screentime_all['Episode'] == ep_num]\n",
    "\n",
    "fig, axs = plt.subplots(9, sharex=True, sharey=True)\n",
    "fig.suptitle('Screentime Character')\n",
    "n=0\n",
    "for char in char_list:\n",
    "    sns.lineplot(data = screentime_all_ep, x= 'Second', y=char, \n",
    "                 #hue = 'Rater', ax = axs[n])\n",
    "                 ax = axs[n])\n",
    "    plt.ylim(0, 1.2)\n",
    "    axs[n].legend(loc='upper left', bbox_to_anchor=(1.05, 1), borderaxespad=0.)\n",
    "    n=n+1\n",
    "#print(fig)"
   ]
  },
  {
   "cell_type": "markdown",
   "id": "172f11b2-4b05-4e45-a00a-dd62ce57fe54",
   "metadata": {},
   "source": [
    "### Find common rater coding"
   ]
  },
  {
   "cell_type": "code",
   "execution_count": null,
   "id": "f6b8853b-08b4-4c1e-9805-b6432627ecae",
   "metadata": {},
   "outputs": [],
   "source": []
  },
  {
   "cell_type": "code",
   "execution_count": 77,
   "id": "54434948-8328-4eac-acd8-efcdd0870311",
   "metadata": {},
   "outputs": [
    {
     "data": {
      "text/html": [
       "<div>\n",
       "<style scoped>\n",
       "    .dataframe tbody tr th:only-of-type {\n",
       "        vertical-align: middle;\n",
       "    }\n",
       "\n",
       "    .dataframe tbody tr th {\n",
       "        vertical-align: top;\n",
       "    }\n",
       "\n",
       "    .dataframe thead th {\n",
       "        text-align: right;\n",
       "    }\n",
       "</style>\n",
       "<table border=\"1\" class=\"dataframe\">\n",
       "  <thead>\n",
       "    <tr style=\"text-align: right;\">\n",
       "      <th></th>\n",
       "      <th>Ryan</th>\n",
       "      <th>Sandy</th>\n",
       "      <th>Kirsten</th>\n",
       "      <th>Marissa</th>\n",
       "      <th>Luke</th>\n",
       "      <th>Seth</th>\n",
       "      <th>Jimmy</th>\n",
       "      <th>Julie</th>\n",
       "      <th>Summer</th>\n",
       "      <th>Episode</th>\n",
       "      <th>Second</th>\n",
       "    </tr>\n",
       "  </thead>\n",
       "  <tbody>\n",
       "    <tr>\n",
       "      <th>1313</th>\n",
       "      <td>1</td>\n",
       "      <td>1</td>\n",
       "      <td>0</td>\n",
       "      <td>0</td>\n",
       "      <td>0</td>\n",
       "      <td>0</td>\n",
       "      <td>0</td>\n",
       "      <td>0</td>\n",
       "      <td>0</td>\n",
       "      <td>16</td>\n",
       "      <td>293</td>\n",
       "    </tr>\n",
       "    <tr>\n",
       "      <th>1314</th>\n",
       "      <td>1</td>\n",
       "      <td>1</td>\n",
       "      <td>0</td>\n",
       "      <td>0</td>\n",
       "      <td>0</td>\n",
       "      <td>0</td>\n",
       "      <td>0</td>\n",
       "      <td>0</td>\n",
       "      <td>0</td>\n",
       "      <td>16</td>\n",
       "      <td>294</td>\n",
       "    </tr>\n",
       "    <tr>\n",
       "      <th>1315</th>\n",
       "      <td>1</td>\n",
       "      <td>1</td>\n",
       "      <td>0</td>\n",
       "      <td>0</td>\n",
       "      <td>0</td>\n",
       "      <td>0</td>\n",
       "      <td>0</td>\n",
       "      <td>0</td>\n",
       "      <td>0</td>\n",
       "      <td>16</td>\n",
       "      <td>295</td>\n",
       "    </tr>\n",
       "    <tr>\n",
       "      <th>1316</th>\n",
       "      <td>1</td>\n",
       "      <td>1</td>\n",
       "      <td>0</td>\n",
       "      <td>0</td>\n",
       "      <td>0</td>\n",
       "      <td>0</td>\n",
       "      <td>0</td>\n",
       "      <td>0</td>\n",
       "      <td>0</td>\n",
       "      <td>16</td>\n",
       "      <td>296</td>\n",
       "    </tr>\n",
       "    <tr>\n",
       "      <th>1317</th>\n",
       "      <td>1</td>\n",
       "      <td>1</td>\n",
       "      <td>0</td>\n",
       "      <td>0</td>\n",
       "      <td>0</td>\n",
       "      <td>0</td>\n",
       "      <td>0</td>\n",
       "      <td>0</td>\n",
       "      <td>0</td>\n",
       "      <td>16</td>\n",
       "      <td>297</td>\n",
       "    </tr>\n",
       "  </tbody>\n",
       "</table>\n",
       "</div>"
      ],
      "text/plain": [
       "      Ryan  Sandy  Kirsten  Marissa  Luke  Seth  Jimmy  Julie  Summer  \\\n",
       "1313     1      1        0        0     0     0      0      0       0   \n",
       "1314     1      1        0        0     0     0      0      0       0   \n",
       "1315     1      1        0        0     0     0      0      0       0   \n",
       "1316     1      1        0        0     0     0      0      0       0   \n",
       "1317     1      1        0        0     0     0      0      0       0   \n",
       "\n",
       "      Episode  Second  \n",
       "1313       16     293  \n",
       "1314       16     294  \n",
       "1315       16     295  \n",
       "1316       16     296  \n",
       "1317       16     297  "
      ]
     },
     "execution_count": 77,
     "metadata": {},
     "output_type": "execute_result"
    }
   ],
   "source": [
    "# Find common screentime for raters\n",
    "screentime_com_ep = pd.DataFrame(columns=np.append(char_list,['Episode', 'Second']))\n",
    "\n",
    "# Find the number of raters\n",
    "num_raters = len(screentime_all_ep['Rater'].unique())\n",
    "\n",
    "for t in range(screentime_all_ep['Second'].max()+1):\n",
    "    # Filter data for a single time point\n",
    "    temp_second_data = screentime_all_ep.loc[screentime_all_ep['Second'] == t,char_list]\n",
    "    \n",
    "    # Sum to see if the raters agree\n",
    "    temp_r_agree = temp_second_data.sum()\n",
    "\n",
    "    # Sum to see if characters shared screen time\n",
    "    temp_shared_t = np.sum(temp_r_agree)\n",
    "\n",
    "    # Check for rater agreement and shared screentime\n",
    "    if temp_shared_t == 2 * num_raters:  # Use 4 because two raters agree and only want two characters at a time\n",
    "        temp_agree_array = temp_r_agree / len(temp_second_data)\n",
    "        temp_agree_array['Episode'] = screentime_all_ep['Episode'].iloc[0]\n",
    "        temp_agree_array['Second'] = t\n",
    "\n",
    "        # Append to dataframe\n",
    "        screentime_com_ep = pd.merge(screentime_com_ep, pd.DataFrame(temp_agree_array).T,\n",
    "                                      how='outer')\n",
    "\n",
    "# Convert everything to intergers to get rid of rater disagreement\n",
    "screentime_com_ep = screentime_com_ep.astype(int)\n",
    "\n",
    "# Sort dataframe by second\n",
    "screentime_com_ep = screentime_com_ep.sort_values(by=['Second'])\n",
    "\n",
    "screentime_com_ep.head()"
   ]
  },
  {
   "cell_type": "markdown",
   "id": "60ec3c78-8feb-40fe-a301-a55a6a6d6ece",
   "metadata": {},
   "source": [
    "## Find Shared Screentime Clips"
   ]
  },
  {
   "cell_type": "code",
   "execution_count": 78,
   "id": "11dda5fc-1af0-4f0e-be95-63262b68d227",
   "metadata": {},
   "outputs": [],
   "source": [
    "def find_ranges(nums):\n",
    "    nums = sorted(set(nums))\n",
    "    gaps = [[s, e] for s, e in zip(nums, nums[1:]) if s+1 < e]\n",
    "    edges = iter(nums[:1] + sum(gaps, []) + nums[-1:])\n",
    "    return list(zip(edges, edges))"
   ]
  },
  {
   "cell_type": "code",
   "execution_count": 79,
   "id": "7c1412e1-ae09-46f4-88b9-26d2f09a8011",
   "metadata": {},
   "outputs": [
    {
     "data": {
      "text/plain": [
       "[(293, 328),\n",
       " (418, 496),\n",
       " (498, 585),\n",
       " (591, 659),\n",
       " (682, 725),\n",
       " (792, 814),\n",
       " (909, 919),\n",
       " (921, 994),\n",
       " (1034, 1069),\n",
       " (1121, 1134),\n",
       " (1254, 1307),\n",
       " (1371, 1424),\n",
       " (1550, 1590),\n",
       " (1661, 1713),\n",
       " (1788, 1842),\n",
       " (1844, 1999),\n",
       " (2018, 2102),\n",
       " (2104, 2136),\n",
       " (2267, 2360),\n",
       " (2363, 2494),\n",
       " (2520, 2564),\n",
       " (2574, 2639)]"
      ]
     },
     "execution_count": 79,
     "metadata": {},
     "output_type": "execute_result"
    }
   ],
   "source": [
    "# Use function to find consecutive seconds to create a time range\n",
    "shared_time_ranges = find_ranges(screentime_com_ep['Second'])\n",
    "drop_ranges = []\n",
    "\n",
    "# Remove time ranges that are less than 10 seconds\n",
    "for n in range(len(shared_time_ranges)):\n",
    "    temp_range = shared_time_ranges[n]\n",
    "    if (temp_range[1] - temp_range[0]) < 10:\n",
    "        drop_ranges.append(shared_time_ranges[n])\n",
    "\n",
    "shared_time_ranges = [x for x in shared_time_ranges if x not in drop_ranges]\n",
    "shared_time_ranges"
   ]
  },
  {
   "cell_type": "markdown",
   "id": "a6a88fb6-e74d-430e-bcd6-b4c45e49b3e1",
   "metadata": {},
   "source": [
    "#### Create a dictionary to store time ranges for each character pair\n",
    "Only for character pairs that actually have clips"
   ]
  },
  {
   "cell_type": "code",
   "execution_count": 80,
   "id": "181ba9d5-5b9a-41c3-b1aa-646e7836362b",
   "metadata": {},
   "outputs": [],
   "source": [
    "shared_time_dict = {}\n",
    "\n",
    "for n_range in range(len(shared_time_ranges)):\n",
    "    # Find the start and end seconds\n",
    "    t_srt = shared_time_ranges[n_range][0]\n",
    "    t_end = shared_time_ranges[n_range][1]\n",
    "\n",
    "    # Find the indexes in the dataframe for the start and end times\n",
    "    index_srt = screentime_com_ep[screentime_com_ep['Second'] == t_srt].index[0]\n",
    "    index_end = screentime_com_ep[screentime_com_ep['Second'] == t_end].index[0]\n",
    "\n",
    "    # Create a series for the time range\n",
    "    time_range = screentime_com_ep.loc[index_srt:index_end, char_list].sum()\n",
    "\n",
    "    # Capture the characters\n",
    "    char_pair = time_range[time_range > 0].index\n",
    "    char_pair_str = char_pair[0] + ' + ' + char_pair[1]\n",
    "\n",
    "    # If dictionary data for the character pair does not exist, create a new list\n",
    "    if char_pair_str not in shared_time_dict.keys():\n",
    "        shared_time_dict[char_pair_str] = []\n",
    "\n",
    "    # Add to dictionary\n",
    "    shared_time_dict[char_pair_str].append(shared_time_ranges[n_range])"
   ]
  },
  {
   "cell_type": "markdown",
   "id": "f4cdc0ab-170a-4360-8eb4-2e9e88f0d599",
   "metadata": {},
   "source": [
    "### Plot total clips per character pairs"
   ]
  },
  {
   "cell_type": "code",
   "execution_count": 81,
   "id": "d574a17a-c40c-42d4-91ae-28da3456f383",
   "metadata": {},
   "outputs": [
    {
     "name": "stderr",
     "output_type": "stream",
     "text": [
      "/var/folders/85/t_6qbb0j2pvbbd0sq3zrwbc00000gq/T/ipykernel_78047/2294814068.py:7: UserWarning: set_ticklabels() should only be used with a fixed number of ticks, i.e. after set_ticks() or using a FixedLocator.\n",
      "  clips_plot.set_xticklabels(clips_plot.get_xticklabels(), rotation=90)\n"
     ]
    },
    {
     "data": {
      "text/plain": [
       "[Text(0, 0, 'Ryan + Sandy'),\n",
       " Text(1, 0, 'Sandy + Kirsten'),\n",
       " Text(2, 0, 'Marissa + Summer'),\n",
       " Text(3, 0, 'Sandy + Jimmy'),\n",
       " Text(4, 0, 'Ryan + Marissa'),\n",
       " Text(5, 0, 'Seth + Summer'),\n",
       " Text(6, 0, 'Ryan + Seth'),\n",
       " Text(7, 0, 'Kirsten + Julie'),\n",
       " Text(8, 0, 'Sandy + Seth'),\n",
       " Text(9, 0, 'Luke + Summer')]"
      ]
     },
     "execution_count": 81,
     "metadata": {},
     "output_type": "execute_result"
    },
    {
     "data": {
      "image/png": "[encoded data removed]",
      "text/plain": [
       "<Figure size 640x480 with 1 Axes>"
      ]
     },
     "metadata": {},
     "output_type": "display_data"
    }
   ],
   "source": [
    "shared_time_plot_data = pd.DataFrame(columns=shared_time_dict.keys())\n",
    "\n",
    "for i_key in shared_time_dict.keys():\n",
    "    shared_time_plot_data.loc[0,i_key] = len(shared_time_dict[i_key])\n",
    "\n",
    "clips_plot = sns.barplot(shared_time_plot_data)\n",
    "clips_plot.set_xticklabels(clips_plot.get_xticklabels(), rotation=90)"
   ]
  },
  {
   "cell_type": "code",
   "execution_count": null,
   "id": "b7bb75f6-f61c-4ea8-bfc8-e6d0381fd4e9",
   "metadata": {},
   "outputs": [],
   "source": []
  }
 ],
 "metadata": {
  "kernelspec": {
   "display_name": "Python 3 (ipykernel)",
   "language": "python",
   "name": "python3"
  },
  "language_info": {
   "codemirror_mode": {
    "name": "ipython",
    "version": 3
   },
   "file_extension": ".py",
   "mimetype": "text/x-python",
   "name": "python",
   "nbconvert_exporter": "python",
   "pygments_lexer": "ipython3",
   "version": "3.11.5"
  }
 },
 "nbformat": 4,
 "nbformat_minor": 5
}
